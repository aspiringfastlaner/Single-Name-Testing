{
 "cells": [
  {
   "cell_type": "code",
   "execution_count": 2,
   "metadata": {
    "collapsed": true
   },
   "outputs": [],
   "source": [
    "import os\n",
    "import datetime as dt\n",
    "import pandas as pd\n",
    "import numpy as np\n",
    "import time\n",
    "\n",
    "main_dir = os.getcwd()\n",
    "os.chdir(main_dir + '\\\\Leaps Pulling')\n",
    "cad_dir = main_dir + '\\\\Historical Queries\\\\CAD'\n",
    "usd_dir = main_dir + '\\\\Historical Queries\\\\US'\n",
    "\n",
    "from helpers import *\n",
    "from yahoo_query import *\n",
    "import requests\n",
    "import webbrowser\n",
    "from bs4 import BeautifulSoup as bs\n",
    "import json\n",
    "from pandas.io.json import json_normalize\n",
    "import csv\n",
    "import sched, time\n",
    "import pandas_datareader as datareader\n",
    "\n",
    "os.chdir(main_dir)"
   ]
  },
  {
   "cell_type": "code",
   "execution_count": 16,
   "metadata": {
    "collapsed": true
   },
   "outputs": [],
   "source": [
    "ticker = 'MU'\n",
    "\n",
    "site = 'https://whalewisdom.com/stock/' + ticker\n",
    "soup = bs(requests.get(site).text, \"lxml\")\n",
    "tables = soup.find_all('table')\n",
    "for table in tables:\n",
    "    if ticker in str(table):\n",
    "        whaletable = table"
   ]
  },
  {
   "cell_type": "code",
   "execution_count": null,
   "metadata": {},
   "outputs": [],
   "source": []
  },
  {
   "cell_type": "code",
   "execution_count": 38,
   "metadata": {},
   "outputs": [
    {
     "name": "stdout",
     "output_type": "stream",
     "text": [
      "['<th>Q2 2018</th>', '<th>All Institutions</th>', '<th>Hedge Funds <sup>1</sup></th>']\n",
      "3\n",
      "[]\n",
      "0\n",
      "['<td>Filers who had this stock in their top 10:</td>', '          59', '<td>23', '          (2.2%)']\n",
      "4\n",
      "['<td>13F Filers holding this stock:</td>', '<td>976</td>', '<td>131', '        (12.52%)']\n",
      "4\n",
      "['<td>Aggregate 13F shares on 06/30/2018:</td>', '<td>857.965 Million</td>', '<td>105.988 Million</td>']\n",
      "3\n",
      "['<td>Aggregate 13F shares on 03/31/2018:</td>', '<td>915.781 Million</td>', '<td>123.768 Million</td>']\n",
      "3\n",
      "['<td>Percent change:</td>', '            -6.31%', '            -14.37%']\n",
      "3\n",
      "['<td>Funds creating new positions:</td>', '          123', '          27']\n",
      "3\n",
      "['<td>       Funds Adding to an existing position:', '          432', '          44']\n",
      "3\n",
      "['<td>        Funds closing out their position:', '          86', '          29']\n",
      "3\n",
      "['        Funds reducing their position:', '          316', '          51']\n",
      "3\n",
      "['<td>   Heat Map Ranking for', '            06/30/2018', '<td colspan=\"2\">', '<a href=\"/report/heat_map\"> 95</a>']\n",
      "4\n",
      "['<td>    Heat Map Ranking for', '            03/31/2018', '<td colspan=\"2\">', '<a href=\"/report/heat_map\"> 30</a>']\n",
      "4\n",
      "[]\n",
      "0\n",
      "['<td colspan=\"3\">', '<sup>1</sup> hedge funds as identified by whalewisdom.com through public filings.']\n",
      "2\n"
     ]
    }
   ],
   "source": [
    "def html_filter(string):\n",
    "    searchfor = ['tr', 'div']\n",
    "    for search in searchfor:\n",
    "        if search in string:\n",
    "            return False\n",
    "    return True\n",
    "\n",
    "headers = ['Field','Quarter','All Institutions', 'Hedge Funds']\n",
    "rows = []\n",
    "i = 1\n",
    "for row in whaletable.find_all('tr'):\n",
    "    \n",
    "    individual_row = list(filter(lambda x: html_filter(x), str(row).split('\\n')))\n",
    "    individual_row = list(filter(lambda x: x.strip() != '<td>', individual_row))\n",
    "    individual_row = list(filter(lambda x: x.strip() != '</td>', individual_row))\n",
    "    individual_row = list(filter(lambda x: '<td class=' not in x, individual_row))\n",
    "    \n",
    "    individual_row = list(filter(lambda x: len(x) > 0, individual_row))\n",
    "    print(individual_row)\n",
    "    print(len(individual_row))"
   ]
  },
  {
   "cell_type": "code",
   "execution_count": null,
   "metadata": {},
   "outputs": [],
   "source": []
  },
  {
   "cell_type": "code",
   "execution_count": null,
   "metadata": {
    "collapsed": true
   },
   "outputs": [],
   "source": []
  }
 ],
 "metadata": {
  "kernelspec": {
   "display_name": "Python 3",
   "language": "python",
   "name": "python3"
  },
  "language_info": {
   "codemirror_mode": {
    "name": "ipython",
    "version": 3
   },
   "file_extension": ".py",
   "mimetype": "text/x-python",
   "name": "python",
   "nbconvert_exporter": "python",
   "pygments_lexer": "ipython3",
   "version": "3.6.1"
  }
 },
 "nbformat": 4,
 "nbformat_minor": 2
}
